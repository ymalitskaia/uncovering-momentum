{
 "cells": [
  {
   "cell_type": "markdown",
   "metadata": {},
   "source": [
    "## Uncovering Momentum, Section 1"
   ]
  },
  {
   "cell_type": "markdown",
   "metadata": {},
   "source": [
    "# Dissecting Momentum Performance"
   ]
  },
  {
   "cell_type": "markdown",
   "metadata": {},
   "source": [
    "This notebook presents the results of Section 1 'Dissecting Momentum Performance' from the paper [Uncovering Momentum](https://papers.ssrn.com/sol3/papers.cfm?abstract_id=3502301). Overall, the paper aims to explore and explain the source of the momentum premium following a systematic divide-and-conquer approach proceeding from the momentum factor into the stock level. Section 1 focuses on the top-level momentum behavior by subdividing the factor performance along two dimensions: bull/bear market states and winners/losers deciles. The results, as confirmed by the notebook, demonstrate the heterogeneous behavior of momentum across these dimensions and hence suggest that each dissected case can be associated with different processes and requires independent evaluation. \n",
    "\n",
    "The notebook is structured as follows: \n",
    "<ol>\n",
    "    <li><a href='#section_1'> Loading Data</a></li>\n",
    "    <li><a href='#section_2'> Formatting Data</a></li>\n",
    "    <li><a href='#section_3'> Identifying Bull and Bear Market States</a></li>\n",
    "    <li><a href='#section_4'> Overview of Heterogenous Momentum Behavior</a></li>\n",
    "    <li><a href='#section_5'> Momentum Analysis across Deciles and Bull/Bear States</a></li>\n",
    "</ol>"
   ]
  },
  {
   "cell_type": "code",
   "execution_count": 1,
   "metadata": {},
   "outputs": [],
   "source": [
    "from datetime import datetime, timedelta\n",
    "import numpy as np\n",
    "import pandas as pd\n",
    "import matplotlib\n",
    "import matplotlib.pyplot as plt\n",
    "%matplotlib inline\n",
    "\n",
    "import empyrical as ep\n",
    "\n",
    "import statsmodels.api as sm\n",
    "from statsmodels import regression"
   ]
  },
  {
   "cell_type": "markdown",
   "metadata": {},
   "source": [
    "Defining time interval (updated from to cover data through December 2020)"
   ]
  },
  {
   "cell_type": "code",
   "execution_count": 2,
   "metadata": {},
   "outputs": [],
   "source": [
    "start_date, end_date = '1927-01-01', '2020-12-31'"
   ]
  },
  {
   "cell_type": "markdown",
   "metadata": {},
   "source": [
    "<a id='section_1'></a>\n",
    "## 1. Loading Data"
   ]
  },
  {
   "cell_type": "markdown",
   "metadata": {},
   "source": [
    "Momentum performance is evaluated using the [K.R. French Data Library](https://mba.tuck.dartmouth.edu/pages/faculty/ken.french/data_library.html), specifically, the 'Fama/French 3 Factors' and '10 Portfolios Formed on Momentum' datasets. As the corresponding datasets consist of multiple sections, the csv files need to be preliminary edited for extracting the value-weighted monthly data."
   ]
  },
  {
   "cell_type": "code",
   "execution_count": 9,
   "metadata": {},
   "outputs": [],
   "source": [
    "ff_factors_file = \"F-F_Research_Data_Factors.csv\"\n",
    "mom_file = \"10_Portfolios_Prior_12_2.csv\""
   ]
  },
  {
   "cell_type": "code",
   "execution_count": 10,
   "metadata": {},
   "outputs": [],
   "source": [
    "date_parser = lambda x: datetime.strptime(str(x), '%Y%m')\n",
    "\n",
    "factors_df = pd.read_csv(ff_factors_file, index_col=0, parse_dates=True, date_parser=date_parser)\n",
    "mom_df = pd.read_csv(mom_file, index_col=0, parse_dates=True, date_parser=date_parser)"
   ]
  },
  {
   "cell_type": "markdown",
   "metadata": {},
   "source": [
    "<a id='section_2'></a>\n",
    "## 2. Formatting Data"
   ]
  },
  {
   "cell_type": "markdown",
   "metadata": {},
   "source": [
    "Formatting data encompases selecting the time interval, converting percents into returns, and subtracting the risk-free rate (RF) from momentum deciles to compute excess returns."
   ]
  },
  {
   "cell_type": "code",
   "execution_count": 11,
   "metadata": {},
   "outputs": [],
   "source": [
    "factors_df = factors_df.loc[start_date: end_date]\n",
    "mom_df = mom_df.loc[start_date: end_date]"
   ]
  },
  {
   "cell_type": "code",
   "execution_count": 12,
   "metadata": {},
   "outputs": [],
   "source": [
    "factors_df = factors_df*0.01\n",
    "mom_df = mom_df*0.01"
   ]
  },
  {
   "cell_type": "code",
   "execution_count": 13,
   "metadata": {},
   "outputs": [],
   "source": [
    "ex_mom_df = mom_df.sub(factors_df['RF'], axis=0)"
   ]
  },
  {
   "cell_type": "code",
   "execution_count": 14,
   "metadata": {},
   "outputs": [],
   "source": [
    "ex_mom_df.rename(columns={'Hi PRIOR': 'W10', 'Lo PRIOR': 'L10'},  inplace=True)\n",
    "ex_mom_df['MKT'] = factors_df['Mkt-RF']\n",
    "ex_mom_df['WML10'] = ex_mom_df['W10'] - ex_mom_df['L10']"
   ]
  },
  {
   "cell_type": "markdown",
   "metadata": {},
   "source": [
    "<a id='section_3'></a>\n",
    "## 3. Identifying Bull & Bear Market Intervals"
   ]
  },
  {
   "cell_type": "markdown",
   "metadata": {},
   "source": [
    "For subsequent analysis of heterogenous momentum behavior, this section creates a bear market mask to identify and select momentum data seperately for bull and bear market intervals. The corresponding bull market state intervals are identified based on cumulative two year past returns with nonnegative values as computed by [Daniel and Moskowitz (2016)](https://www.sciencedirect.com/science/article/pii/S0304405X16301490)."
   ]
  },
  {
   "cell_type": "code",
   "execution_count": 15,
   "metadata": {},
   "outputs": [],
   "source": [
    "def moving_cum(symbol, window=24):\n",
    "    return (1. + symbol).rolling(window).agg(lambda x: x.prod()) - 1."
   ]
  },
  {
   "cell_type": "code",
   "execution_count": 16,
   "metadata": {},
   "outputs": [],
   "source": [
    "mkt_bear_mask = moving_cum(ex_mom_df[\"MKT\"])  < 0\n",
    "\n",
    "ex_mom_bull_df = ex_mom_df.loc[~mkt_bear_mask]\n",
    "ex_mom_bear_df = ex_mom_df.loc[mkt_bear_mask]"
   ]
  },
  {
   "cell_type": "markdown",
   "metadata": {},
   "source": [
    "<a id='section_4'></a>\n",
    "## 4. Overview of Heterogenous Momentum  Behavior"
   ]
  },
  {
   "cell_type": "markdown",
   "metadata": {},
   "source": [
    "This section replicates (and updates time interval up to Dec 2020) Table 1 from the paper Uncovering Momentum. The results demonstrate the heterogeneous behavior of momentum depending on the decile and market state components. The corresponding table compares the performance of excess market (MKT), conventional winners-minus-losers momentum strategy computed from the top/bottom 10% portfolios (WML10), and the top decile winners (W10) and losers (L10) components. Reported statistics encompass the annual mean, volatility, max drawdown, alpha and beta for both the full and bull-only market states. \n",
    "\n",
    "According to the table, past winners represent the solo driver producing annual mean with positive beta greater than one during the bull state. Losers in the bull state in contrast generate a small annual mean as a byproduct of the difference between a negative alpha and beta of the winners level. During the bear state, the beta parameters of past winners are substantially reduced and, concurrently, the past loser’s beta is increased. "
   ]
  },
  {
   "cell_type": "code",
   "execution_count": 17,
   "metadata": {},
   "outputs": [],
   "source": [
    "mom_cols = ['MKT', 'WML10', 'W10', 'L10']\n",
    "t1_cols = ['annual_mean', 'annual volatility', 'max drawdown', 'annual alpha', 'beta']"
   ]
  },
  {
   "cell_type": "markdown",
   "metadata": {},
   "source": [
    "### 4.1 Full interval"
   ]
  },
  {
   "cell_type": "code",
   "execution_count": 18,
   "metadata": {},
   "outputs": [],
   "source": [
    "am = ex_mom_df[mom_cols].mean()*12*100\n",
    "av = ex_mom_df[mom_cols].apply(lambda x: ep.annual_volatility(x, period='monthly')*100)\n",
    "md = ex_mom_df[mom_cols].apply(lambda x: ep.max_drawdown(x))\n",
    "alpha = ex_mom_df[mom_cols].apply(lambda x: ep.alpha(x, ex_mom_df['MKT'], risk_free=0.0, annualization=1)*12*100)\n",
    "beta = ex_mom_df[mom_cols].apply(lambda x: ep.beta(x, ex_mom_df['MKT'], risk_free=0.0))"
   ]
  },
  {
   "cell_type": "code",
   "execution_count": 19,
   "metadata": {},
   "outputs": [
    {
     "data": {
      "text/html": [
       "<div>\n",
       "<style scoped>\n",
       "    .dataframe tbody tr th:only-of-type {\n",
       "        vertical-align: middle;\n",
       "    }\n",
       "\n",
       "    .dataframe tbody tr th {\n",
       "        vertical-align: top;\n",
       "    }\n",
       "\n",
       "    .dataframe thead th {\n",
       "        text-align: right;\n",
       "    }\n",
       "</style>\n",
       "<table border=\"1\" class=\"dataframe\">\n",
       "  <thead>\n",
       "    <tr style=\"text-align: right;\">\n",
       "      <th></th>\n",
       "      <th>annual_mean</th>\n",
       "      <th>annual volatility</th>\n",
       "      <th>max drawdown</th>\n",
       "      <th>annual alpha</th>\n",
       "      <th>beta</th>\n",
       "    </tr>\n",
       "  </thead>\n",
       "  <tbody>\n",
       "    <tr>\n",
       "      <th>MKT</th>\n",
       "      <td>8.137447</td>\n",
       "      <td>18.588356</td>\n",
       "      <td>-0.846853</td>\n",
       "      <td>0.000000</td>\n",
       "      <td>1.000000</td>\n",
       "    </tr>\n",
       "    <tr>\n",
       "      <th>WML10</th>\n",
       "      <td>13.815000</td>\n",
       "      <td>27.276723</td>\n",
       "      <td>-0.956156</td>\n",
       "      <td>18.281893</td>\n",
       "      <td>-0.548931</td>\n",
       "    </tr>\n",
       "    <tr>\n",
       "      <th>W10</th>\n",
       "      <td>15.004043</td>\n",
       "      <td>22.397556</td>\n",
       "      <td>-0.782865</td>\n",
       "      <td>6.666583</td>\n",
       "      <td>1.024579</td>\n",
       "    </tr>\n",
       "    <tr>\n",
       "      <th>L10</th>\n",
       "      <td>1.189043</td>\n",
       "      <td>34.278321</td>\n",
       "      <td>-0.998117</td>\n",
       "      <td>-11.615310</td>\n",
       "      <td>1.573510</td>\n",
       "    </tr>\n",
       "  </tbody>\n",
       "</table>\n",
       "</div>"
      ],
      "text/plain": [
       "       annual_mean  annual volatility  max drawdown  annual alpha      beta\n",
       "MKT       8.137447          18.588356     -0.846853      0.000000  1.000000\n",
       "WML10    13.815000          27.276723     -0.956156     18.281893 -0.548931\n",
       "W10      15.004043          22.397556     -0.782865      6.666583  1.024579\n",
       "L10       1.189043          34.278321     -0.998117    -11.615310  1.573510"
      ]
     },
     "execution_count": 19,
     "metadata": {},
     "output_type": "execute_result"
    }
   ],
   "source": [
    "t1_df = pd.concat([am, av, md, alpha, beta], axis=1, keys=t1_cols)\n",
    "t1_df"
   ]
  },
  {
   "cell_type": "markdown",
   "metadata": {},
   "source": [
    "### 4.2 Bull market"
   ]
  },
  {
   "cell_type": "code",
   "execution_count": 20,
   "metadata": {},
   "outputs": [],
   "source": [
    "am_bull = ex_mom_bull_df[mom_cols].mean()*12*100\n",
    "av_bull = ex_mom_bull_df[mom_cols].apply(lambda x: ep.annual_volatility(x, period='monthly')*100)\n",
    "md_bull = ex_mom_bull_df[mom_cols].apply(lambda x: ep.max_drawdown(x))\n",
    "alpha_bull = ex_mom_bull_df[mom_cols].apply(lambda x: ep.alpha(x, ex_mom_bull_df['MKT'], risk_free=0.0, annualization=1)*12*100)\n",
    "beta_bull = ex_mom_bull_df[mom_cols].apply(lambda x: ep.beta(x, ex_mom_bull_df['MKT'], risk_free=0.0))"
   ]
  },
  {
   "cell_type": "code",
   "execution_count": 21,
   "metadata": {},
   "outputs": [
    {
     "data": {
      "text/html": [
       "<div>\n",
       "<style scoped>\n",
       "    .dataframe tbody tr th:only-of-type {\n",
       "        vertical-align: middle;\n",
       "    }\n",
       "\n",
       "    .dataframe tbody tr th {\n",
       "        vertical-align: top;\n",
       "    }\n",
       "\n",
       "    .dataframe thead th {\n",
       "        text-align: right;\n",
       "    }\n",
       "</style>\n",
       "<table border=\"1\" class=\"dataframe\">\n",
       "  <thead>\n",
       "    <tr style=\"text-align: right;\">\n",
       "      <th></th>\n",
       "      <th>annual_mean</th>\n",
       "      <th>annual volatility</th>\n",
       "      <th>max drawdown</th>\n",
       "      <th>annual alpha</th>\n",
       "      <th>beta</th>\n",
       "    </tr>\n",
       "  </thead>\n",
       "  <tbody>\n",
       "    <tr>\n",
       "      <th>MKT</th>\n",
       "      <td>12.444583</td>\n",
       "      <td>14.526333</td>\n",
       "      <td>-0.352146</td>\n",
       "      <td>0.000000</td>\n",
       "      <td>1.000000</td>\n",
       "    </tr>\n",
       "    <tr>\n",
       "      <th>WML10</th>\n",
       "      <td>15.105556</td>\n",
       "      <td>20.274717</td>\n",
       "      <td>-0.540432</td>\n",
       "      <td>15.626563</td>\n",
       "      <td>-0.041866</td>\n",
       "    </tr>\n",
       "    <tr>\n",
       "      <th>W10</th>\n",
       "      <td>20.140000</td>\n",
       "      <td>21.091896</td>\n",
       "      <td>-0.492584</td>\n",
       "      <td>4.351574</td>\n",
       "      <td>1.268699</td>\n",
       "    </tr>\n",
       "    <tr>\n",
       "      <th>L10</th>\n",
       "      <td>5.034444</td>\n",
       "      <td>23.999751</td>\n",
       "      <td>-0.755048</td>\n",
       "      <td>-11.274989</td>\n",
       "      <td>1.310565</td>\n",
       "    </tr>\n",
       "  </tbody>\n",
       "</table>\n",
       "</div>"
      ],
      "text/plain": [
       "       annual_mean  annual volatility  max drawdown  annual alpha      beta\n",
       "MKT      12.444583          14.526333     -0.352146      0.000000  1.000000\n",
       "WML10    15.105556          20.274717     -0.540432     15.626563 -0.041866\n",
       "W10      20.140000          21.091896     -0.492584      4.351574  1.268699\n",
       "L10       5.034444          23.999751     -0.755048    -11.274989  1.310565"
      ]
     },
     "execution_count": 21,
     "metadata": {},
     "output_type": "execute_result"
    }
   ],
   "source": [
    "t1_bull_df = pd.concat([am_bull, av_bull, md_bull, alpha_bull, beta_bull], axis=1, keys=t1_cols)\n",
    "t1_bull_df"
   ]
  },
  {
   "cell_type": "markdown",
   "metadata": {},
   "source": [
    "<a id='section_5'></a>\n",
    "##  5. Momentum Analysis across Deciles and Bull/Bear States"
   ]
  },
  {
   "cell_type": "markdown",
   "metadata": {},
   "source": [
    "This section proceeds with Table 2 from the paper for delving further into examining the asymmetric performance of momentum deciles during the bull and bear market states. Reported in the table are the alpha and beta perameters with corresponding t-statistics for each decile momentum portfolio seperately across the two market states. \n",
    "\n",
    "Focusing first solely on the bull market, alpha exhibits a positive linear shape and beta has a U-shape pattern. The results reinforce past research that going long the winners and short the losers generates positive alpha and simultaneously closely hedges the market beta. The latter parameter however is significant across all portfolios, while the former has a significant t-statistic only for the top and bottom 3 deciles. During the bear market, alpha is not significant across all decile portfolios with beta gradually declining from L10 to W10."
   ]
  },
  {
   "cell_type": "code",
   "execution_count": 22,
   "metadata": {},
   "outputs": [],
   "source": [
    "t2_mom_columns = list(set(ex_mom_bull_df.columns) - set(['MKT', 'WML10']))\n",
    "t2_mom_columns.sort()"
   ]
  },
  {
   "cell_type": "code",
   "execution_count": 26,
   "metadata": {},
   "outputs": [],
   "source": [
    "t2_cols = ['alpha', 't-stat', 'beta', 't-stat']"
   ]
  },
  {
   "cell_type": "markdown",
   "metadata": {},
   "source": [
    "### 5.1 Bull market"
   ]
  },
  {
   "cell_type": "code",
   "execution_count": 29,
   "metadata": {},
   "outputs": [
    {
     "data": {
      "text/html": [
       "<div>\n",
       "<style scoped>\n",
       "    .dataframe tbody tr th:only-of-type {\n",
       "        vertical-align: middle;\n",
       "    }\n",
       "\n",
       "    .dataframe tbody tr th {\n",
       "        vertical-align: top;\n",
       "    }\n",
       "\n",
       "    .dataframe thead th {\n",
       "        text-align: right;\n",
       "    }\n",
       "</style>\n",
       "<table border=\"1\" class=\"dataframe\">\n",
       "  <thead>\n",
       "    <tr style=\"text-align: right;\">\n",
       "      <th></th>\n",
       "      <th>alpha</th>\n",
       "      <th>t-stat</th>\n",
       "      <th>beta</th>\n",
       "      <th>t-stat</th>\n",
       "    </tr>\n",
       "  </thead>\n",
       "  <tbody>\n",
       "    <tr>\n",
       "      <th>L10</th>\n",
       "      <td>-11.274989</td>\n",
       "      <td>-6.351435</td>\n",
       "      <td>1.310565</td>\n",
       "      <td>38.248495</td>\n",
       "    </tr>\n",
       "    <tr>\n",
       "      <th>PRIOR 2</th>\n",
       "      <td>-4.352680</td>\n",
       "      <td>-3.479595</td>\n",
       "      <td>1.069154</td>\n",
       "      <td>44.280497</td>\n",
       "    </tr>\n",
       "    <tr>\n",
       "      <th>PRIOR 3</th>\n",
       "      <td>-2.425341</td>\n",
       "      <td>-2.357820</td>\n",
       "      <td>0.962327</td>\n",
       "      <td>48.468609</td>\n",
       "    </tr>\n",
       "    <tr>\n",
       "      <th>PRIOR 4</th>\n",
       "      <td>-0.435408</td>\n",
       "      <td>-0.532085</td>\n",
       "      <td>0.924219</td>\n",
       "      <td>58.513981</td>\n",
       "    </tr>\n",
       "    <tr>\n",
       "      <th>PRIOR 5</th>\n",
       "      <td>0.454905</td>\n",
       "      <td>0.628103</td>\n",
       "      <td>0.909384</td>\n",
       "      <td>65.051514</td>\n",
       "    </tr>\n",
       "    <tr>\n",
       "      <th>PRIOR 6</th>\n",
       "      <td>0.197812</td>\n",
       "      <td>0.319209</td>\n",
       "      <td>0.946337</td>\n",
       "      <td>79.116755</td>\n",
       "    </tr>\n",
       "    <tr>\n",
       "      <th>PRIOR 7</th>\n",
       "      <td>1.019932</td>\n",
       "      <td>1.504550</td>\n",
       "      <td>0.965999</td>\n",
       "      <td>73.826523</td>\n",
       "    </tr>\n",
       "    <tr>\n",
       "      <th>PRIOR 8</th>\n",
       "      <td>2.114663</td>\n",
       "      <td>2.964698</td>\n",
       "      <td>0.993096</td>\n",
       "      <td>72.132453</td>\n",
       "    </tr>\n",
       "    <tr>\n",
       "      <th>PRIOR 9</th>\n",
       "      <td>2.416458</td>\n",
       "      <td>2.940097</td>\n",
       "      <td>1.068275</td>\n",
       "      <td>67.338832</td>\n",
       "    </tr>\n",
       "    <tr>\n",
       "      <th>W10</th>\n",
       "      <td>4.351574</td>\n",
       "      <td>3.492259</td>\n",
       "      <td>1.268699</td>\n",
       "      <td>52.749536</td>\n",
       "    </tr>\n",
       "  </tbody>\n",
       "</table>\n",
       "</div>"
      ],
      "text/plain": [
       "             alpha    t-stat      beta     t-stat\n",
       "L10     -11.274989 -6.351435  1.310565  38.248495\n",
       "PRIOR 2  -4.352680 -3.479595  1.069154  44.280497\n",
       "PRIOR 3  -2.425341 -2.357820  0.962327  48.468609\n",
       "PRIOR 4  -0.435408 -0.532085  0.924219  58.513981\n",
       "PRIOR 5   0.454905  0.628103  0.909384  65.051514\n",
       "PRIOR 6   0.197812  0.319209  0.946337  79.116755\n",
       "PRIOR 7   1.019932  1.504550  0.965999  73.826523\n",
       "PRIOR 8   2.114663  2.964698  0.993096  72.132453\n",
       "PRIOR 9   2.416458  2.940097  1.068275  67.338832\n",
       "W10       4.351574  3.492259  1.268699  52.749536"
      ]
     },
     "execution_count": 29,
     "metadata": {},
     "output_type": "execute_result"
    }
   ],
   "source": [
    "ex_mkt = ex_mom_bull_df['MKT'].values\n",
    "x1 = sm.add_constant(ex_mkt)\n",
    "\n",
    "t2_results = []\n",
    "\n",
    "for i, column in enumerate(t2_mom_columns):\n",
    "    y = ex_mom_bull_df[column].values\n",
    "    model = regression.linear_model.OLS(y, x1).fit()   \n",
    "    t2_results.append([model.params[0]*12*100,model.tvalues[0], model.params[1],model.tvalues[1]])\n",
    "    \n",
    "pd.DataFrame(t2_results, index=t2_mom_columns, columns=t2_cols)"
   ]
  },
  {
   "cell_type": "markdown",
   "metadata": {},
   "source": [
    "### 5.2 Bear market"
   ]
  },
  {
   "cell_type": "code",
   "execution_count": 30,
   "metadata": {},
   "outputs": [
    {
     "data": {
      "text/html": [
       "<div>\n",
       "<style scoped>\n",
       "    .dataframe tbody tr th:only-of-type {\n",
       "        vertical-align: middle;\n",
       "    }\n",
       "\n",
       "    .dataframe tbody tr th {\n",
       "        vertical-align: top;\n",
       "    }\n",
       "\n",
       "    .dataframe thead th {\n",
       "        text-align: right;\n",
       "    }\n",
       "</style>\n",
       "<table border=\"1\" class=\"dataframe\">\n",
       "  <thead>\n",
       "    <tr style=\"text-align: right;\">\n",
       "      <th></th>\n",
       "      <th>alpha</th>\n",
       "      <th>t-stat</th>\n",
       "      <th>beta</th>\n",
       "      <th>t-stat</th>\n",
       "    </tr>\n",
       "  </thead>\n",
       "  <tbody>\n",
       "    <tr>\n",
       "      <th>L10</th>\n",
       "      <td>-0.489800</td>\n",
       "      <td>-0.096719</td>\n",
       "      <td>1.830303</td>\n",
       "      <td>34.664427</td>\n",
       "    </tr>\n",
       "    <tr>\n",
       "      <th>PRIOR 2</th>\n",
       "      <td>2.867357</td>\n",
       "      <td>0.817141</td>\n",
       "      <td>1.598763</td>\n",
       "      <td>43.698768</td>\n",
       "    </tr>\n",
       "    <tr>\n",
       "      <th>PRIOR 3</th>\n",
       "      <td>2.487181</td>\n",
       "      <td>0.938845</td>\n",
       "      <td>1.377969</td>\n",
       "      <td>49.887969</td>\n",
       "    </tr>\n",
       "    <tr>\n",
       "      <th>PRIOR 4</th>\n",
       "      <td>3.252085</td>\n",
       "      <td>1.447384</td>\n",
       "      <td>1.259714</td>\n",
       "      <td>53.772893</td>\n",
       "    </tr>\n",
       "    <tr>\n",
       "      <th>PRIOR 5</th>\n",
       "      <td>0.718229</td>\n",
       "      <td>0.369873</td>\n",
       "      <td>1.152804</td>\n",
       "      <td>56.939714</td>\n",
       "    </tr>\n",
       "    <tr>\n",
       "      <th>PRIOR 6</th>\n",
       "      <td>3.121683</td>\n",
       "      <td>1.915490</td>\n",
       "      <td>1.110436</td>\n",
       "      <td>65.351309</td>\n",
       "    </tr>\n",
       "    <tr>\n",
       "      <th>PRIOR 7</th>\n",
       "      <td>1.515547</td>\n",
       "      <td>0.973306</td>\n",
       "      <td>0.969807</td>\n",
       "      <td>59.735873</td>\n",
       "    </tr>\n",
       "    <tr>\n",
       "      <th>PRIOR 8</th>\n",
       "      <td>1.388029</td>\n",
       "      <td>0.900842</td>\n",
       "      <td>0.874717</td>\n",
       "      <td>54.448644</td>\n",
       "    </tr>\n",
       "    <tr>\n",
       "      <th>PRIOR 9</th>\n",
       "      <td>1.716282</td>\n",
       "      <td>0.917510</td>\n",
       "      <td>0.861303</td>\n",
       "      <td>44.161935</td>\n",
       "    </tr>\n",
       "    <tr>\n",
       "      <th>W10</th>\n",
       "      <td>2.958254</td>\n",
       "      <td>1.062324</td>\n",
       "      <td>0.799310</td>\n",
       "      <td>27.530028</td>\n",
       "    </tr>\n",
       "  </tbody>\n",
       "</table>\n",
       "</div>"
      ],
      "text/plain": [
       "            alpha    t-stat      beta     t-stat\n",
       "L10     -0.489800 -0.096719  1.830303  34.664427\n",
       "PRIOR 2  2.867357  0.817141  1.598763  43.698768\n",
       "PRIOR 3  2.487181  0.938845  1.377969  49.887969\n",
       "PRIOR 4  3.252085  1.447384  1.259714  53.772893\n",
       "PRIOR 5  0.718229  0.369873  1.152804  56.939714\n",
       "PRIOR 6  3.121683  1.915490  1.110436  65.351309\n",
       "PRIOR 7  1.515547  0.973306  0.969807  59.735873\n",
       "PRIOR 8  1.388029  0.900842  0.874717  54.448644\n",
       "PRIOR 9  1.716282  0.917510  0.861303  44.161935\n",
       "W10      2.958254  1.062324  0.799310  27.530028"
      ]
     },
     "execution_count": 30,
     "metadata": {},
     "output_type": "execute_result"
    }
   ],
   "source": [
    "ex_mkt = ex_mom_bear_df['MKT'].values\n",
    "x1 = sm.add_constant(ex_mkt)\n",
    "\n",
    "t2_results = []\n",
    "\n",
    "for i, column in enumerate(t2_mom_columns):\n",
    "    y = ex_mom_bear_df[column].values\n",
    "    model = regression.linear_model.OLS(y, x1).fit()   \n",
    "    t2_results.append([model.params[0]*12*100,model.tvalues[0], model.params[1],model.tvalues[1]])\n",
    "    \n",
    "pd.DataFrame(t2_results, index=t2_mom_columns, columns=t2_cols)"
   ]
  },
  {
   "cell_type": "code",
   "execution_count": null,
   "metadata": {},
   "outputs": [],
   "source": []
  }
 ],
 "metadata": {
  "kernelspec": {
   "display_name": "Python 3",
   "language": "python",
   "name": "python3"
  },
  "language_info": {
   "codemirror_mode": {
    "name": "ipython",
    "version": 3
   },
   "file_extension": ".py",
   "mimetype": "text/x-python",
   "name": "python",
   "nbconvert_exporter": "python",
   "pygments_lexer": "ipython3",
   "version": "3.7.1"
  }
 },
 "nbformat": 4,
 "nbformat_minor": 1
}
