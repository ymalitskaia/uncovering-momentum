{
 "cells": [
  {
   "cell_type": "markdown",
   "metadata": {},
   "source": [
    "## Uncovering Momentum, Section 1"
   ]
  },
  {
   "cell_type": "markdown",
   "metadata": {},
   "source": [
    "# Dissecting Momentum Performance"
   ]
  },
  {
   "cell_type": "markdown",
   "metadata": {},
   "source": [
    "This notebook presents the results of Section 1 'Dissecting Momentum Performance' from the paper [Uncovering Momentum](https://papers.ssrn.com/sol3/papers.cfm?abstract_id=3502301). Overall, the paper aims to explore and explain the source of the momentum premium following a systematic divide-and-conquer approach proceeding from the momentum factor into the stock level. Section 1 focuses on the top-level momentum behavior by subdividing the factor performance along two dimensions: bull/bear market states and winners/losers deciles. The results, as confirmed by the notebook, demonstrate the heterogeneous behavior of momentum across these dimensions and hence suggest that each dissected case can be associated with different processes and requires independent evaluation. \n",
    "\n",
    "The notebook is structured as follows: \n",
    "<ol>\n",
    "    <li><a href='#section_1'> Loading Data</a></li>\n",
    "    <li><a href='#section_2'> Formatting Data</a></li>\n",
    "    <li><a href='#section_3'> Identifying Bull and Bear Market States</a></li>\n",
    "    <li><a href='#section_4'> Overview of Heterogenous Momentum Behavior</a></li>\n",
    "    <li><a href='#section_5'> Momentum Analysis across Deciles and Bull/Bear States</a></li>\n",
    "</ol>"
   ]
  },
  {
   "cell_type": "code",
   "execution_count": 1,
   "metadata": {},
   "outputs": [],
   "source": [
    "import datetime\n",
    "from datetime import datetime, timedelta\n",
    "from dateutil.relativedelta import relativedelta\n",
    "import numpy as np\n",
    "import pandas as pd\n",
    "import matplotlib\n",
    "import matplotlib.pyplot as plt\n",
    "%matplotlib inline\n",
    "\n",
    "import empyrical as ep\n",
    "\n",
    "import statsmodels.api as sm\n",
    "from statsmodels import regression"
   ]
  },
  {
   "cell_type": "markdown",
   "metadata": {},
   "source": [
    "Defining the package for accessing the Fama French Data Library datasets"
   ]
  },
  {
   "cell_type": "code",
   "execution_count": 2,
   "metadata": {},
   "outputs": [],
   "source": [
    "import pandas_datareader.data as web"
   ]
  },
  {
   "cell_type": "code",
   "execution_count": 3,
   "metadata": {},
   "outputs": [],
   "source": [
    "# Function for retrieving a list of available Fama French Data Library datasets\n",
    "# import pandas_datareader\n",
    "# pandas_datareader.famafrench.get_available_datasets()"
   ]
  },
  {
   "cell_type": "markdown",
   "metadata": {},
   "source": [
    "Defining time interval (updated to cover data through June 2021)"
   ]
  },
  {
   "cell_type": "code",
   "execution_count": 4,
   "metadata": {},
   "outputs": [],
   "source": [
    "start_date, end_date = '1927', '2021-06' "
   ]
  },
  {
   "cell_type": "markdown",
   "metadata": {},
   "source": [
    "<a id='section_1'></a>\n",
    "## 1. Loading Data"
   ]
  },
  {
   "cell_type": "markdown",
   "metadata": {},
   "source": [
    "Momentum performance is evaluated using the [K.R. French Data Library](https://mba.tuck.dartmouth.edu/pages/faculty/ken.french/data_library.html), specifically, the 'Fama/French 3 Factors' and '10 Portfolios Formed on Momentum' datasets."
   ]
  },
  {
   "cell_type": "code",
   "execution_count": 5,
   "metadata": {},
   "outputs": [
    {
     "name": "stdout",
     "output_type": "stream",
     "text": [
      "<class 'pandas.core.frame.DataFrame'>\n",
      "PeriodIndex: 1134 entries, 1927-01 to 2021-06\n",
      "Freq: M\n",
      "Data columns (total 4 columns):\n",
      "Mkt-RF    1134 non-null float64\n",
      "SMB       1134 non-null float64\n",
      "HML       1134 non-null float64\n",
      "RF        1134 non-null float64\n",
      "dtypes: float64(4)\n",
      "memory usage: 44.3 KB\n"
     ]
    }
   ],
   "source": [
    "factors_dataset = 'F-F_Research_Data_Factors' \n",
    "# 0: subsection with monthly data\n",
    "factors_df = web.DataReader(factors_dataset, 'famafrench', start=start_date, end=end_date)[0]\n",
    "factors_df.info()"
   ]
  },
  {
   "cell_type": "code",
   "execution_count": 6,
   "metadata": {},
   "outputs": [
    {
     "name": "stdout",
     "output_type": "stream",
     "text": [
      "<class 'pandas.core.frame.DataFrame'>\n",
      "PeriodIndex: 1134 entries, 1927-01 to 2021-06\n",
      "Freq: M\n",
      "Data columns (total 10 columns):\n",
      "Lo PRIOR    1134 non-null float64\n",
      "PRIOR 2     1134 non-null float64\n",
      "PRIOR 3     1134 non-null float64\n",
      "PRIOR 4     1134 non-null float64\n",
      "PRIOR 5     1134 non-null float64\n",
      "PRIOR 6     1134 non-null float64\n",
      "PRIOR 7     1134 non-null float64\n",
      "PRIOR 8     1134 non-null float64\n",
      "PRIOR 9     1134 non-null float64\n",
      "Hi PRIOR    1134 non-null float64\n",
      "dtypes: float64(10)\n",
      "memory usage: 97.5 KB\n"
     ]
    }
   ],
   "source": [
    "mom_dataset = \"10_Portfolios_Prior_12_2\"\n",
    "# 0: subsection with monthly value-weighted data\n",
    "mom_df = web.DataReader(mom_dataset, 'famafrench', start=start_date, end=end_date)[0]\n",
    "mom_df.info()"
   ]
  },
  {
   "cell_type": "code",
   "execution_count": 7,
   "metadata": {},
   "outputs": [
    {
     "data": {
      "text/html": [
       "<div>\n",
       "<style scoped>\n",
       "    .dataframe tbody tr th:only-of-type {\n",
       "        vertical-align: middle;\n",
       "    }\n",
       "\n",
       "    .dataframe tbody tr th {\n",
       "        vertical-align: top;\n",
       "    }\n",
       "\n",
       "    .dataframe thead th {\n",
       "        text-align: right;\n",
       "    }\n",
       "</style>\n",
       "<table border=\"1\" class=\"dataframe\">\n",
       "  <thead>\n",
       "    <tr style=\"text-align: right;\">\n",
       "      <th></th>\n",
       "      <th>Lo PRIOR</th>\n",
       "      <th>PRIOR 2</th>\n",
       "      <th>PRIOR 3</th>\n",
       "      <th>PRIOR 4</th>\n",
       "      <th>PRIOR 5</th>\n",
       "      <th>PRIOR 6</th>\n",
       "      <th>PRIOR 7</th>\n",
       "      <th>PRIOR 8</th>\n",
       "      <th>PRIOR 9</th>\n",
       "      <th>Hi PRIOR</th>\n",
       "    </tr>\n",
       "  </thead>\n",
       "  <tbody>\n",
       "    <tr>\n",
       "      <th>count</th>\n",
       "      <td>1134.000000</td>\n",
       "      <td>1134.000000</td>\n",
       "      <td>1134.000000</td>\n",
       "      <td>1134.000000</td>\n",
       "      <td>1134.000000</td>\n",
       "      <td>1134.000000</td>\n",
       "      <td>1134.000000</td>\n",
       "      <td>1134.000000</td>\n",
       "      <td>1134.000000</td>\n",
       "      <td>1134.000000</td>\n",
       "    </tr>\n",
       "    <tr>\n",
       "      <th>mean</th>\n",
       "      <td>0.402196</td>\n",
       "      <td>0.722063</td>\n",
       "      <td>0.784577</td>\n",
       "      <td>0.911085</td>\n",
       "      <td>0.911570</td>\n",
       "      <td>0.976878</td>\n",
       "      <td>1.027407</td>\n",
       "      <td>1.120088</td>\n",
       "      <td>1.211182</td>\n",
       "      <td>1.514127</td>\n",
       "    </tr>\n",
       "    <tr>\n",
       "      <th>std</th>\n",
       "      <td>9.871497</td>\n",
       "      <td>8.082880</td>\n",
       "      <td>6.952280</td>\n",
       "      <td>6.343022</td>\n",
       "      <td>5.910908</td>\n",
       "      <td>5.767746</td>\n",
       "      <td>5.453063</td>\n",
       "      <td>5.297828</td>\n",
       "      <td>5.572909</td>\n",
       "      <td>6.452369</td>\n",
       "    </tr>\n",
       "    <tr>\n",
       "      <th>min</th>\n",
       "      <td>-42.260000</td>\n",
       "      <td>-40.470000</td>\n",
       "      <td>-35.170000</td>\n",
       "      <td>-32.620000</td>\n",
       "      <td>-31.550000</td>\n",
       "      <td>-30.940000</td>\n",
       "      <td>-34.730000</td>\n",
       "      <td>-27.170000</td>\n",
       "      <td>-27.200000</td>\n",
       "      <td>-28.520000</td>\n",
       "    </tr>\n",
       "    <tr>\n",
       "      <th>25%</th>\n",
       "      <td>-3.837500</td>\n",
       "      <td>-2.727500</td>\n",
       "      <td>-1.990000</td>\n",
       "      <td>-1.935000</td>\n",
       "      <td>-1.750000</td>\n",
       "      <td>-1.610000</td>\n",
       "      <td>-1.765000</td>\n",
       "      <td>-1.695000</td>\n",
       "      <td>-1.595000</td>\n",
       "      <td>-2.020000</td>\n",
       "    </tr>\n",
       "    <tr>\n",
       "      <th>50%</th>\n",
       "      <td>0.290000</td>\n",
       "      <td>0.660000</td>\n",
       "      <td>0.890000</td>\n",
       "      <td>1.085000</td>\n",
       "      <td>1.150000</td>\n",
       "      <td>1.290000</td>\n",
       "      <td>1.355000</td>\n",
       "      <td>1.345000</td>\n",
       "      <td>1.615000</td>\n",
       "      <td>1.805000</td>\n",
       "    </tr>\n",
       "    <tr>\n",
       "      <th>75%</th>\n",
       "      <td>4.145000</td>\n",
       "      <td>4.037500</td>\n",
       "      <td>3.760000</td>\n",
       "      <td>3.737500</td>\n",
       "      <td>3.700000</td>\n",
       "      <td>3.897500</td>\n",
       "      <td>3.990000</td>\n",
       "      <td>3.967500</td>\n",
       "      <td>4.430000</td>\n",
       "      <td>5.530000</td>\n",
       "    </tr>\n",
       "    <tr>\n",
       "      <th>max</th>\n",
       "      <td>93.980000</td>\n",
       "      <td>79.330000</td>\n",
       "      <td>66.380000</td>\n",
       "      <td>62.160000</td>\n",
       "      <td>60.310000</td>\n",
       "      <td>47.340000</td>\n",
       "      <td>35.400000</td>\n",
       "      <td>32.440000</td>\n",
       "      <td>32.890000</td>\n",
       "      <td>28.880000</td>\n",
       "    </tr>\n",
       "  </tbody>\n",
       "</table>\n",
       "</div>"
      ],
      "text/plain": [
       "          Lo PRIOR      PRIOR 2      PRIOR 3      PRIOR 4      PRIOR 5  \\\n",
       "count  1134.000000  1134.000000  1134.000000  1134.000000  1134.000000   \n",
       "mean      0.402196     0.722063     0.784577     0.911085     0.911570   \n",
       "std       9.871497     8.082880     6.952280     6.343022     5.910908   \n",
       "min     -42.260000   -40.470000   -35.170000   -32.620000   -31.550000   \n",
       "25%      -3.837500    -2.727500    -1.990000    -1.935000    -1.750000   \n",
       "50%       0.290000     0.660000     0.890000     1.085000     1.150000   \n",
       "75%       4.145000     4.037500     3.760000     3.737500     3.700000   \n",
       "max      93.980000    79.330000    66.380000    62.160000    60.310000   \n",
       "\n",
       "           PRIOR 6      PRIOR 7      PRIOR 8      PRIOR 9     Hi PRIOR  \n",
       "count  1134.000000  1134.000000  1134.000000  1134.000000  1134.000000  \n",
       "mean      0.976878     1.027407     1.120088     1.211182     1.514127  \n",
       "std       5.767746     5.453063     5.297828     5.572909     6.452369  \n",
       "min     -30.940000   -34.730000   -27.170000   -27.200000   -28.520000  \n",
       "25%      -1.610000    -1.765000    -1.695000    -1.595000    -2.020000  \n",
       "50%       1.290000     1.355000     1.345000     1.615000     1.805000  \n",
       "75%       3.897500     3.990000     3.967500     4.430000     5.530000  \n",
       "max      47.340000    35.400000    32.440000    32.890000    28.880000  "
      ]
     },
     "execution_count": 7,
     "metadata": {},
     "output_type": "execute_result"
    }
   ],
   "source": [
    "mom_df.describe()"
   ]
  },
  {
   "cell_type": "markdown",
   "metadata": {},
   "source": [
    "<a id='section_2'></a>\n",
    "## 2. Computing Conventional WML Factor"
   ]
  },
  {
   "cell_type": "markdown",
   "metadata": {},
   "source": [
    "After loading the data, it is preliminarly formated by converting percents into decimals and subtracting the risk-free rate (RF) from the momentum deciles to compute excess returns."
   ]
  },
  {
   "cell_type": "code",
   "execution_count": 8,
   "metadata": {},
   "outputs": [],
   "source": [
    "factors_df = factors_df*0.01\n",
    "mom_df = mom_df*0.01\n",
    "\n",
    "ex_mom_df = mom_df.sub(factors_df['RF'], axis=0)\n",
    "ex_mom_df.rename(columns={'Hi PRIOR': 'W10', 'Lo PRIOR': 'L10'},  inplace=True)\n",
    "ex_mom_df['MKT'] = factors_df['Mkt-RF']"
   ]
  },
  {
   "cell_type": "markdown",
   "metadata": {},
   "source": [
    "Finally, adding the WML factor."
   ]
  },
  {
   "cell_type": "code",
   "execution_count": 9,
   "metadata": {},
   "outputs": [],
   "source": [
    "ex_mom_df['WML10'] = ex_mom_df['W10'] - ex_mom_df['L10']"
   ]
  },
  {
   "cell_type": "code",
   "execution_count": 10,
   "metadata": {},
   "outputs": [
    {
     "data": {
      "text/html": [
       "<div>\n",
       "<style scoped>\n",
       "    .dataframe tbody tr th:only-of-type {\n",
       "        vertical-align: middle;\n",
       "    }\n",
       "\n",
       "    .dataframe tbody tr th {\n",
       "        vertical-align: top;\n",
       "    }\n",
       "\n",
       "    .dataframe thead th {\n",
       "        text-align: right;\n",
       "    }\n",
       "</style>\n",
       "<table border=\"1\" class=\"dataframe\">\n",
       "  <thead>\n",
       "    <tr style=\"text-align: right;\">\n",
       "      <th></th>\n",
       "      <th>L10</th>\n",
       "      <th>PRIOR 2</th>\n",
       "      <th>PRIOR 3</th>\n",
       "      <th>PRIOR 4</th>\n",
       "      <th>PRIOR 5</th>\n",
       "      <th>PRIOR 6</th>\n",
       "      <th>PRIOR 7</th>\n",
       "      <th>PRIOR 8</th>\n",
       "      <th>PRIOR 9</th>\n",
       "      <th>W10</th>\n",
       "      <th>MKT</th>\n",
       "      <th>WML10</th>\n",
       "    </tr>\n",
       "    <tr>\n",
       "      <th>Date</th>\n",
       "      <th></th>\n",
       "      <th></th>\n",
       "      <th></th>\n",
       "      <th></th>\n",
       "      <th></th>\n",
       "      <th></th>\n",
       "      <th></th>\n",
       "      <th></th>\n",
       "      <th></th>\n",
       "      <th></th>\n",
       "      <th></th>\n",
       "      <th></th>\n",
       "    </tr>\n",
       "  </thead>\n",
       "  <tbody>\n",
       "    <tr>\n",
       "      <th>1927-01</th>\n",
       "      <td>-0.0357</td>\n",
       "      <td>-0.0487</td>\n",
       "      <td>0.0241</td>\n",
       "      <td>-0.0057</td>\n",
       "      <td>-0.0066</td>\n",
       "      <td>0.0071</td>\n",
       "      <td>0.0052</td>\n",
       "      <td>0.0011</td>\n",
       "      <td>-0.0068</td>\n",
       "      <td>-0.0049</td>\n",
       "      <td>-0.0006</td>\n",
       "      <td>0.0308</td>\n",
       "    </tr>\n",
       "    <tr>\n",
       "      <th>1927-02</th>\n",
       "      <td>0.0716</td>\n",
       "      <td>0.0578</td>\n",
       "      <td>0.0607</td>\n",
       "      <td>0.0893</td>\n",
       "      <td>0.0354</td>\n",
       "      <td>0.0390</td>\n",
       "      <td>0.0255</td>\n",
       "      <td>0.0302</td>\n",
       "      <td>0.0394</td>\n",
       "      <td>0.0671</td>\n",
       "      <td>0.0418</td>\n",
       "      <td>-0.0045</td>\n",
       "    </tr>\n",
       "  </tbody>\n",
       "</table>\n",
       "</div>"
      ],
      "text/plain": [
       "            L10  PRIOR 2  PRIOR 3  PRIOR 4  PRIOR 5  PRIOR 6  PRIOR 7  \\\n",
       "Date                                                                    \n",
       "1927-01 -0.0357  -0.0487   0.0241  -0.0057  -0.0066   0.0071   0.0052   \n",
       "1927-02  0.0716   0.0578   0.0607   0.0893   0.0354   0.0390   0.0255   \n",
       "\n",
       "         PRIOR 8  PRIOR 9     W10     MKT   WML10  \n",
       "Date                                               \n",
       "1927-01   0.0011  -0.0068 -0.0049 -0.0006  0.0308  \n",
       "1927-02   0.0302   0.0394  0.0671  0.0418 -0.0045  "
      ]
     },
     "execution_count": 10,
     "metadata": {},
     "output_type": "execute_result"
    }
   ],
   "source": [
    "ex_mom_df.head(2)"
   ]
  },
  {
   "cell_type": "markdown",
   "metadata": {},
   "source": [
    "<a id='section_3'></a>\n",
    "## 3. Identifying Bull & Bear Market Intervals"
   ]
  },
  {
   "cell_type": "markdown",
   "metadata": {},
   "source": [
    "For subsequent analysis of heterogenous momentum behavior, this section creates a bear market mask to identify and select momentum data seperately for bull and bear market intervals. The corresponding bull market state intervals are identified based on cumulative two year past returns with nonnegative values as computed by [Daniel and Moskowitz (2016)](https://www.sciencedirect.com/science/article/pii/S0304405X16301490)."
   ]
  },
  {
   "cell_type": "code",
   "execution_count": 11,
   "metadata": {},
   "outputs": [],
   "source": [
    "def moving_cum(symbol, window=24):\n",
    "    return (1. + symbol).rolling(window).agg(lambda x: x.prod()) - 1."
   ]
  },
  {
   "cell_type": "code",
   "execution_count": 12,
   "metadata": {},
   "outputs": [],
   "source": [
    "mkt_bear_mask = moving_cum(ex_mom_df[\"MKT\"])  < 0\n",
    "\n",
    "ex_mom_bull_df = ex_mom_df.loc[~mkt_bear_mask]\n",
    "ex_mom_bear_df = ex_mom_df.loc[mkt_bear_mask]"
   ]
  },
  {
   "cell_type": "code",
   "execution_count": 13,
   "metadata": {},
   "outputs": [
    {
     "data": {
      "image/png": "[encoded data removed]",
      "text/plain": [
       "<Figure size 648x360 with 1 Axes>"
      ]
     },
     "metadata": {
      "needs_background": "light"
     },
     "output_type": "display_data"
    }
   ],
   "source": [
    "cum_exmkt = np.cumprod(ex_mom_df['MKT']+1) - 1\n",
    "cum_exmkt.plot(figsize=(9, 5), color='y')\n",
    "\n",
    "for month in ex_mom_bear_df.index:\n",
    "    m1 = datetime.strptime(str(month), \"%Y-%m\")\n",
    "    m2 = m1 + relativedelta(months=1)\n",
    "    plt.axvspan(m1, m2, color=\"red\", alpha=0.1)\n",
    "    \n",
    "plt.title('Bear Market Intervals from 1930 to 2021', fontsize=18)\n",
    "plt.ylabel('Cum Returns')\n",
    "plt.legend(['Excess Market'], loc = 'upper left')\n",
    "plt.margins(x=0)\n",
    "    \n",
    "plt.show()"
   ]
  },
  {
   "cell_type": "markdown",
   "metadata": {},
   "source": [
    "<a id='section_4'></a>\n",
    "## 4. Overview of Heterogenous Momentum  Behavior"
   ]
  },
  {
   "cell_type": "markdown",
   "metadata": {},
   "source": [
    "This section replicates (and updates time interval up to June 2021) Table 1 from the paper Uncovering Momentum. The results demonstrate the heterogeneous behavior of momentum depending on the decile and market state components. The corresponding table compares the performance of excess market (MKT), conventional winners-minus-losers momentum strategy computed from the top/bottom 10% portfolios (WML10), and the top decile winners (W10) and losers (L10) components. Reported statistics encompass the annual mean, volatility, max drawdown, alpha and beta for both the full and bull-only market states. \n",
    "\n",
    "According to the table, past winners represent the solo driver producing annual mean with positive beta greater than one during the bull state. Losers in the bull state in contrast generate a small annual mean as a byproduct of the difference between a negative alpha and beta of the winners level. During the bear state, the beta parameters of past winners are substantially reduced and, concurrently, the past loser’s beta is increased. "
   ]
  },
  {
   "cell_type": "code",
   "execution_count": 14,
   "metadata": {},
   "outputs": [],
   "source": [
    "def calculate_t1(momentum_data):\n",
    "    rows = ['MKT', 'WML10', 'W10', 'L10']\n",
    "    cols = ['annual_mean', 'annual volatility', 'max drawdown', 'annual alpha', 'beta']\n",
    "    \n",
    "    am = momentum_data[rows].mean()*12*100\n",
    "    av = momentum_data[rows].apply(lambda x: ep.annual_volatility(x, period='monthly')*100)\n",
    "    md = momentum_data[rows].apply(lambda x: ep.max_drawdown(x))\n",
    "    alpha = momentum_data[rows].apply(lambda x: ep.alpha(x, ex_mom_df['MKT'], risk_free=0.0, annualization=1)*12*100)\n",
    "    beta = momentum_data[rows].apply(lambda x: ep.beta(x, ex_mom_df['MKT'], risk_free=0.0))\n",
    "\n",
    "    table_df = pd.concat([am, av, md, alpha, beta], axis=1, keys=cols)\n",
    "    \n",
    "    return table_df"
   ]
  },
  {
   "cell_type": "markdown",
   "metadata": {},
   "source": [
    "### 4.1 Full interval"
   ]
  },
  {
   "cell_type": "code",
   "execution_count": 15,
   "metadata": {},
   "outputs": [
    {
     "data": {
      "text/html": [
       "<div>\n",
       "<style scoped>\n",
       "    .dataframe tbody tr th:only-of-type {\n",
       "        vertical-align: middle;\n",
       "    }\n",
       "\n",
       "    .dataframe tbody tr th {\n",
       "        vertical-align: top;\n",
       "    }\n",
       "\n",
       "    .dataframe thead th {\n",
       "        text-align: right;\n",
       "    }\n",
       "</style>\n",
       "<table border=\"1\" class=\"dataframe\">\n",
       "  <thead>\n",
       "    <tr style=\"text-align: right;\">\n",
       "      <th></th>\n",
       "      <th>annual_mean</th>\n",
       "      <th>annual volatility</th>\n",
       "      <th>max drawdown</th>\n",
       "      <th>annual alpha</th>\n",
       "      <th>beta</th>\n",
       "    </tr>\n",
       "  </thead>\n",
       "  <tbody>\n",
       "    <tr>\n",
       "      <th>MKT</th>\n",
       "      <td>8.240635</td>\n",
       "      <td>18.548587</td>\n",
       "      <td>-0.846853</td>\n",
       "      <td>0.000000</td>\n",
       "      <td>1.000000</td>\n",
       "    </tr>\n",
       "    <tr>\n",
       "      <th>WML10</th>\n",
       "      <td>13.343175</td>\n",
       "      <td>27.373799</td>\n",
       "      <td>-0.956156</td>\n",
       "      <td>17.877928</td>\n",
       "      <td>-0.550292</td>\n",
       "    </tr>\n",
       "    <tr>\n",
       "      <th>W10</th>\n",
       "      <td>14.939259</td>\n",
       "      <td>22.382170</td>\n",
       "      <td>-0.782865</td>\n",
       "      <td>6.503583</td>\n",
       "      <td>1.023668</td>\n",
       "    </tr>\n",
       "    <tr>\n",
       "      <th>L10</th>\n",
       "      <td>1.596085</td>\n",
       "      <td>34.262345</td>\n",
       "      <td>-0.998117</td>\n",
       "      <td>-11.374345</td>\n",
       "      <td>1.573960</td>\n",
       "    </tr>\n",
       "  </tbody>\n",
       "</table>\n",
       "</div>"
      ],
      "text/plain": [
       "       annual_mean  annual volatility  max drawdown  annual alpha      beta\n",
       "MKT       8.240635          18.548587     -0.846853      0.000000  1.000000\n",
       "WML10    13.343175          27.373799     -0.956156     17.877928 -0.550292\n",
       "W10      14.939259          22.382170     -0.782865      6.503583  1.023668\n",
       "L10       1.596085          34.262345     -0.998117    -11.374345  1.573960"
      ]
     },
     "execution_count": 15,
     "metadata": {},
     "output_type": "execute_result"
    }
   ],
   "source": [
    "calculate_t1(ex_mom_df)"
   ]
  },
  {
   "cell_type": "markdown",
   "metadata": {},
   "source": [
    "### 4.2 Bull market"
   ]
  },
  {
   "cell_type": "code",
   "execution_count": 16,
   "metadata": {},
   "outputs": [
    {
     "data": {
      "text/html": [
       "<div>\n",
       "<style scoped>\n",
       "    .dataframe tbody tr th:only-of-type {\n",
       "        vertical-align: middle;\n",
       "    }\n",
       "\n",
       "    .dataframe tbody tr th {\n",
       "        vertical-align: top;\n",
       "    }\n",
       "\n",
       "    .dataframe thead th {\n",
       "        text-align: right;\n",
       "    }\n",
       "</style>\n",
       "<table border=\"1\" class=\"dataframe\">\n",
       "  <thead>\n",
       "    <tr style=\"text-align: right;\">\n",
       "      <th></th>\n",
       "      <th>annual_mean</th>\n",
       "      <th>annual volatility</th>\n",
       "      <th>max drawdown</th>\n",
       "      <th>annual alpha</th>\n",
       "      <th>beta</th>\n",
       "    </tr>\n",
       "  </thead>\n",
       "  <tbody>\n",
       "    <tr>\n",
       "      <th>MKT</th>\n",
       "      <td>12.549655</td>\n",
       "      <td>14.489003</td>\n",
       "      <td>-0.352146</td>\n",
       "      <td>0.000000</td>\n",
       "      <td>1.000000</td>\n",
       "    </tr>\n",
       "    <tr>\n",
       "      <th>WML10</th>\n",
       "      <td>14.481517</td>\n",
       "      <td>20.503754</td>\n",
       "      <td>-0.646106</td>\n",
       "      <td>15.044945</td>\n",
       "      <td>-0.044896</td>\n",
       "    </tr>\n",
       "    <tr>\n",
       "      <th>W10</th>\n",
       "      <td>20.020138</td>\n",
       "      <td>21.081950</td>\n",
       "      <td>-0.492584</td>\n",
       "      <td>4.123843</td>\n",
       "      <td>1.266672</td>\n",
       "    </tr>\n",
       "    <tr>\n",
       "      <th>L10</th>\n",
       "      <td>5.538621</td>\n",
       "      <td>24.049133</td>\n",
       "      <td>-0.755048</td>\n",
       "      <td>-10.921102</td>\n",
       "      <td>1.311568</td>\n",
       "    </tr>\n",
       "  </tbody>\n",
       "</table>\n",
       "</div>"
      ],
      "text/plain": [
       "       annual_mean  annual volatility  max drawdown  annual alpha      beta\n",
       "MKT      12.549655          14.489003     -0.352146      0.000000  1.000000\n",
       "WML10    14.481517          20.503754     -0.646106     15.044945 -0.044896\n",
       "W10      20.020138          21.081950     -0.492584      4.123843  1.266672\n",
       "L10       5.538621          24.049133     -0.755048    -10.921102  1.311568"
      ]
     },
     "execution_count": 16,
     "metadata": {},
     "output_type": "execute_result"
    }
   ],
   "source": [
    "calculate_t1(ex_mom_bull_df)"
   ]
  },
  {
   "cell_type": "markdown",
   "metadata": {},
   "source": [
    "<a id='section_5'></a>\n",
    "##  5. Momentum Analysis across Deciles and Bull/Bear States"
   ]
  },
  {
   "cell_type": "markdown",
   "metadata": {},
   "source": [
    "This section proceeds with Table 2 from the paper for delving further into examining the asymmetric performance of momentum deciles during the bull and bear market states. Reported in the table are the alpha and beta perameters with corresponding t-statistics for each decile momentum portfolio seperately across the two market states. \n",
    "\n",
    "Focusing first solely on the bull market, alpha exhibits a positive linear shape and beta has a U-shape pattern. The results reinforce past research that going long the winners and short the losers generates positive alpha and simultaneously closely hedges the market beta. The latter parameter however is significant across all portfolios, while the former has a significant t-statistic only for the top and bottom 3 deciles. During the bear market, alpha is not significant across all decile portfolios with beta gradually declining from L10 to W10."
   ]
  },
  {
   "cell_type": "code",
   "execution_count": 17,
   "metadata": {},
   "outputs": [],
   "source": [
    "def calculate_t2(momentum_data):\n",
    "    ex_mkt = momentum_data['MKT'].values\n",
    "    x1 = sm.add_constant(ex_mkt)\n",
    "    \n",
    "    rows = list(set(ex_mom_bull_df.columns) - set(['MKT', 'WML10']))\n",
    "    rows.sort()\n",
    "    cols = ['alpha', 't-stat', 'beta', 't-stat']\n",
    "\n",
    "    t2_results = []\n",
    "\n",
    "    for i, column in enumerate(rows):\n",
    "        y = momentum_data[column].values\n",
    "        model = regression.linear_model.OLS(y, x1).fit()   \n",
    "        t2_results.append([model.params[0]*12*100,model.tvalues[0], model.params[1],model.tvalues[1]])\n",
    "    \n",
    "    return pd.DataFrame(t2_results, index=rows, columns=cols)"
   ]
  },
  {
   "cell_type": "markdown",
   "metadata": {},
   "source": [
    "### 5.1 Bull market"
   ]
  },
  {
   "cell_type": "code",
   "execution_count": 18,
   "metadata": {},
   "outputs": [
    {
     "data": {
      "text/html": [
       "<div>\n",
       "<style scoped>\n",
       "    .dataframe tbody tr th:only-of-type {\n",
       "        vertical-align: middle;\n",
       "    }\n",
       "\n",
       "    .dataframe tbody tr th {\n",
       "        vertical-align: top;\n",
       "    }\n",
       "\n",
       "    .dataframe thead th {\n",
       "        text-align: right;\n",
       "    }\n",
       "</style>\n",
       "<table border=\"1\" class=\"dataframe\">\n",
       "  <thead>\n",
       "    <tr style=\"text-align: right;\">\n",
       "      <th></th>\n",
       "      <th>alpha</th>\n",
       "      <th>t-stat</th>\n",
       "      <th>beta</th>\n",
       "      <th>t-stat</th>\n",
       "    </tr>\n",
       "  </thead>\n",
       "  <tbody>\n",
       "    <tr>\n",
       "      <th>L10</th>\n",
       "      <td>-10.921102</td>\n",
       "      <td>-6.116988</td>\n",
       "      <td>1.311568</td>\n",
       "      <td>37.986047</td>\n",
       "    </tr>\n",
       "    <tr>\n",
       "      <th>PRIOR 2</th>\n",
       "      <td>-4.310080</td>\n",
       "      <td>-3.449212</td>\n",
       "      <td>1.068902</td>\n",
       "      <td>44.231830</td>\n",
       "    </tr>\n",
       "    <tr>\n",
       "      <th>PRIOR 3</th>\n",
       "      <td>-2.295441</td>\n",
       "      <td>-2.237772</td>\n",
       "      <td>0.963664</td>\n",
       "      <td>48.577761</td>\n",
       "    </tr>\n",
       "    <tr>\n",
       "      <th>PRIOR 4</th>\n",
       "      <td>-0.289294</td>\n",
       "      <td>-0.353435</td>\n",
       "      <td>0.925948</td>\n",
       "      <td>58.494998</td>\n",
       "    </tr>\n",
       "    <tr>\n",
       "      <th>PRIOR 5</th>\n",
       "      <td>0.491165</td>\n",
       "      <td>0.677800</td>\n",
       "      <td>0.910228</td>\n",
       "      <td>64.951089</td>\n",
       "    </tr>\n",
       "    <tr>\n",
       "      <th>PRIOR 6</th>\n",
       "      <td>0.239314</td>\n",
       "      <td>0.386850</td>\n",
       "      <td>0.947475</td>\n",
       "      <td>79.196257</td>\n",
       "    </tr>\n",
       "    <tr>\n",
       "      <th>PRIOR 7</th>\n",
       "      <td>1.025032</td>\n",
       "      <td>1.507485</td>\n",
       "      <td>0.966418</td>\n",
       "      <td>73.492442</td>\n",
       "    </tr>\n",
       "    <tr>\n",
       "      <th>PRIOR 8</th>\n",
       "      <td>2.023173</td>\n",
       "      <td>2.841837</td>\n",
       "      <td>0.991779</td>\n",
       "      <td>72.034919</td>\n",
       "    </tr>\n",
       "    <tr>\n",
       "      <th>PRIOR 9</th>\n",
       "      <td>2.371807</td>\n",
       "      <td>2.898377</td>\n",
       "      <td>1.067664</td>\n",
       "      <td>67.464047</td>\n",
       "    </tr>\n",
       "    <tr>\n",
       "      <th>W10</th>\n",
       "      <td>4.123843</td>\n",
       "      <td>3.281602</td>\n",
       "      <td>1.266672</td>\n",
       "      <td>52.120685</td>\n",
       "    </tr>\n",
       "  </tbody>\n",
       "</table>\n",
       "</div>"
      ],
      "text/plain": [
       "             alpha    t-stat      beta     t-stat\n",
       "L10     -10.921102 -6.116988  1.311568  37.986047\n",
       "PRIOR 2  -4.310080 -3.449212  1.068902  44.231830\n",
       "PRIOR 3  -2.295441 -2.237772  0.963664  48.577761\n",
       "PRIOR 4  -0.289294 -0.353435  0.925948  58.494998\n",
       "PRIOR 5   0.491165  0.677800  0.910228  64.951089\n",
       "PRIOR 6   0.239314  0.386850  0.947475  79.196257\n",
       "PRIOR 7   1.025032  1.507485  0.966418  73.492442\n",
       "PRIOR 8   2.023173  2.841837  0.991779  72.034919\n",
       "PRIOR 9   2.371807  2.898377  1.067664  67.464047\n",
       "W10       4.123843  3.281602  1.266672  52.120685"
      ]
     },
     "execution_count": 18,
     "metadata": {},
     "output_type": "execute_result"
    }
   ],
   "source": [
    "calculate_t2(ex_mom_bull_df)"
   ]
  },
  {
   "cell_type": "markdown",
   "metadata": {},
   "source": [
    "### 5.2 Bear market"
   ]
  },
  {
   "cell_type": "code",
   "execution_count": 19,
   "metadata": {},
   "outputs": [
    {
     "data": {
      "text/html": [
       "<div>\n",
       "<style scoped>\n",
       "    .dataframe tbody tr th:only-of-type {\n",
       "        vertical-align: middle;\n",
       "    }\n",
       "\n",
       "    .dataframe tbody tr th {\n",
       "        vertical-align: top;\n",
       "    }\n",
       "\n",
       "    .dataframe thead th {\n",
       "        text-align: right;\n",
       "    }\n",
       "</style>\n",
       "<table border=\"1\" class=\"dataframe\">\n",
       "  <thead>\n",
       "    <tr style=\"text-align: right;\">\n",
       "      <th></th>\n",
       "      <th>alpha</th>\n",
       "      <th>t-stat</th>\n",
       "      <th>beta</th>\n",
       "      <th>t-stat</th>\n",
       "    </tr>\n",
       "  </thead>\n",
       "  <tbody>\n",
       "    <tr>\n",
       "      <th>L10</th>\n",
       "      <td>-0.488556</td>\n",
       "      <td>-0.096474</td>\n",
       "      <td>1.830309</td>\n",
       "      <td>34.664915</td>\n",
       "    </tr>\n",
       "    <tr>\n",
       "      <th>PRIOR 2</th>\n",
       "      <td>2.868840</td>\n",
       "      <td>0.817578</td>\n",
       "      <td>1.598768</td>\n",
       "      <td>43.699671</td>\n",
       "    </tr>\n",
       "    <tr>\n",
       "      <th>PRIOR 3</th>\n",
       "      <td>2.488453</td>\n",
       "      <td>0.939339</td>\n",
       "      <td>1.377972</td>\n",
       "      <td>49.888846</td>\n",
       "    </tr>\n",
       "    <tr>\n",
       "      <th>PRIOR 4</th>\n",
       "      <td>3.253238</td>\n",
       "      <td>1.447902</td>\n",
       "      <td>1.259715</td>\n",
       "      <td>53.773144</td>\n",
       "    </tr>\n",
       "    <tr>\n",
       "      <th>PRIOR 5</th>\n",
       "      <td>0.719293</td>\n",
       "      <td>0.370429</td>\n",
       "      <td>1.152806</td>\n",
       "      <td>56.940990</td>\n",
       "    </tr>\n",
       "    <tr>\n",
       "      <th>PRIOR 6</th>\n",
       "      <td>3.122697</td>\n",
       "      <td>1.916112</td>\n",
       "      <td>1.110437</td>\n",
       "      <td>65.351361</td>\n",
       "    </tr>\n",
       "    <tr>\n",
       "      <th>PRIOR 7</th>\n",
       "      <td>1.516434</td>\n",
       "      <td>0.973881</td>\n",
       "      <td>0.969808</td>\n",
       "      <td>59.736222</td>\n",
       "    </tr>\n",
       "    <tr>\n",
       "      <th>PRIOR 8</th>\n",
       "      <td>1.388822</td>\n",
       "      <td>0.901344</td>\n",
       "      <td>0.874717</td>\n",
       "      <td>54.447871</td>\n",
       "    </tr>\n",
       "    <tr>\n",
       "      <th>PRIOR 9</th>\n",
       "      <td>1.717059</td>\n",
       "      <td>0.917914</td>\n",
       "      <td>0.861302</td>\n",
       "      <td>44.161296</td>\n",
       "    </tr>\n",
       "    <tr>\n",
       "      <th>W10</th>\n",
       "      <td>2.958968</td>\n",
       "      <td>1.062569</td>\n",
       "      <td>0.799308</td>\n",
       "      <td>27.529673</td>\n",
       "    </tr>\n",
       "  </tbody>\n",
       "</table>\n",
       "</div>"
      ],
      "text/plain": [
       "            alpha    t-stat      beta     t-stat\n",
       "L10     -0.488556 -0.096474  1.830309  34.664915\n",
       "PRIOR 2  2.868840  0.817578  1.598768  43.699671\n",
       "PRIOR 3  2.488453  0.939339  1.377972  49.888846\n",
       "PRIOR 4  3.253238  1.447902  1.259715  53.773144\n",
       "PRIOR 5  0.719293  0.370429  1.152806  56.940990\n",
       "PRIOR 6  3.122697  1.916112  1.110437  65.351361\n",
       "PRIOR 7  1.516434  0.973881  0.969808  59.736222\n",
       "PRIOR 8  1.388822  0.901344  0.874717  54.447871\n",
       "PRIOR 9  1.717059  0.917914  0.861302  44.161296\n",
       "W10      2.958968  1.062569  0.799308  27.529673"
      ]
     },
     "execution_count": 19,
     "metadata": {},
     "output_type": "execute_result"
    }
   ],
   "source": [
    "calculate_t2(ex_mom_bear_df)"
   ]
  },
  {
   "cell_type": "code",
   "execution_count": null,
   "metadata": {},
   "outputs": [],
   "source": []
  }
 ],
 "metadata": {
  "kernelspec": {
   "display_name": "Python 3",
   "language": "python",
   "name": "python3"
  },
  "language_info": {
   "codemirror_mode": {
    "name": "ipython",
    "version": 3
   },
   "file_extension": ".py",
   "mimetype": "text/x-python",
   "name": "python",
   "nbconvert_exporter": "python",
   "pygments_lexer": "ipython3",
   "version": "3.6.13"
  }
 },
 "nbformat": 4,
 "nbformat_minor": 1
}
